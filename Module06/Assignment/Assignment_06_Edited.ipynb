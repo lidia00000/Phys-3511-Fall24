{
 "cells": [
  {
   "cell_type": "markdown",
   "metadata": {},
   "source": [
    "# Assignment 6:  Due Thursday 10/10\n",
    "\n",
    "In this assignment you will become familiar with the Pandas library through the exploration of a Nobel prize data set. \n",
    "\n",
    "This data set was taken from the Kaggle website (https://www.kaggle.com/). If you are interested in data science and / or analysis, this website offers tons of data sets in various formats that you can access. They even post compititions that you can enter, some with money prizes awarded.\n",
    "\n",
    "The libraries needed for this assignment are listed below."
   ]
  },
  {
   "cell_type": "code",
   "execution_count": 66,
   "metadata": {},
   "outputs": [],
   "source": [
    "#specify imports here\n",
    "import pandas as pd\n",
    "import numpy as np\n",
    "import scipy.stats as st\n",
    "import matplotlib.pyplot as plt\n",
    "from scipy.stats import norm\n",
    "from scipy.stats import chi2\n",
    "from scipy.special import gammaincc\n",
    "import scipy.integrate as spi\n",
    "from scipy.optimize import curve_fit\n",
    "from scipy.integrate import quad\n",
    "%matplotlib inline\n",
    "\n",
    "#sorry i kind of just keep copying all the imports from the prevous assignment and adding on"
   ]
  },
  {
   "cell_type": "markdown",
   "metadata": {},
   "source": [
    "# 1a)\n",
    "\n",
    "Read in the data set 'data/nobel.csv' into a DataFrame using Pandas ."
   ]
  },
  {
   "cell_type": "code",
   "execution_count": 67,
   "metadata": {},
   "outputs": [
    {
     "name": "stdout",
     "output_type": "stream",
     "text": [
      "   year    category                                           prize  \\\n",
      "0  1901   Chemistry               The Nobel Prize in Chemistry 1901   \n",
      "1  1901  Literature              The Nobel Prize in Literature 1901   \n",
      "2  1901    Medicine  The Nobel Prize in Physiology or Medicine 1901   \n",
      "3  1901       Peace                      The Nobel Peace Prize 1901   \n",
      "4  1901       Peace                      The Nobel Peace Prize 1901   \n",
      "\n",
      "                                          motivation prize_share  laureate_id  \\\n",
      "0  \"in recognition of the extraordinary services ...         1/1          160   \n",
      "1  \"in special recognition of his poetic composit...         1/1          569   \n",
      "2  \"for his work on serum therapy, especially its...         1/1          293   \n",
      "3                                                NaN         1/2          462   \n",
      "4                                                NaN         1/2          463   \n",
      "\n",
      "  laureate_type                     full_name  birth_date         birth_city  \\\n",
      "0    Individual  Jacobus Henricus van 't Hoff  1852-08-30          Rotterdam   \n",
      "1    Individual               Sully Prudhomme  1839-03-16              Paris   \n",
      "2    Individual        Emil Adolf von Behring  1854-03-15  Hansdorf (Lawice)   \n",
      "3    Individual             Jean Henry Dunant  1828-05-08             Geneva   \n",
      "4    Individual                Frédéric Passy  1822-05-20              Paris   \n",
      "\n",
      "      birth_country   sex   organization_name organization_city  \\\n",
      "0       Netherlands  Male   Berlin University            Berlin   \n",
      "1            France  Male                 NaN               NaN   \n",
      "2  Prussia (Poland)  Male  Marburg University           Marburg   \n",
      "3       Switzerland  Male                 NaN               NaN   \n",
      "4            France  Male                 NaN               NaN   \n",
      "\n",
      "  organization_country  death_date death_city death_country  \n",
      "0              Germany  1911-03-01     Berlin       Germany  \n",
      "1                  NaN  1907-09-07   Châtenay        France  \n",
      "2              Germany  1917-03-31    Marburg       Germany  \n",
      "3                  NaN  1910-10-30     Heiden   Switzerland  \n",
      "4                  NaN  1912-06-12      Paris        France  \n"
     ]
    }
   ],
   "source": [
    "nobel_data = pd.read_csv('nobel.csv')\n",
    "print(nobel_data.head())"
   ]
  },
  {
   "cell_type": "markdown",
   "metadata": {},
   "source": [
    "# 1b)\n",
    "\n",
    "Display below the output from the DataFrame functions *info*."
   ]
  },
  {
   "cell_type": "code",
   "execution_count": 68,
   "metadata": {},
   "outputs": [
    {
     "name": "stdout",
     "output_type": "stream",
     "text": [
      "<class 'pandas.core.frame.DataFrame'>\n",
      "RangeIndex: 911 entries, 0 to 910\n",
      "Data columns (total 18 columns):\n",
      " #   Column                Non-Null Count  Dtype \n",
      "---  ------                --------------  ----- \n",
      " 0   year                  911 non-null    int64 \n",
      " 1   category              911 non-null    object\n",
      " 2   prize                 911 non-null    object\n",
      " 3   motivation            823 non-null    object\n",
      " 4   prize_share           911 non-null    object\n",
      " 5   laureate_id           911 non-null    int64 \n",
      " 6   laureate_type         911 non-null    object\n",
      " 7   full_name             911 non-null    object\n",
      " 8   birth_date            883 non-null    object\n",
      " 9   birth_city            883 non-null    object\n",
      " 10  birth_country         885 non-null    object\n",
      " 11  sex                   885 non-null    object\n",
      " 12  organization_name     665 non-null    object\n",
      " 13  organization_city     667 non-null    object\n",
      " 14  organization_country  667 non-null    object\n",
      " 15  death_date            593 non-null    object\n",
      " 16  death_city            576 non-null    object\n",
      " 17  death_country         582 non-null    object\n",
      "dtypes: int64(2), object(16)\n",
      "memory usage: 128.2+ KB\n"
     ]
    }
   ],
   "source": [
    "nobel_data_info = nobel_data.info()"
   ]
  },
  {
   "cell_type": "markdown",
   "metadata": {},
   "source": [
    "# 1c)\n",
    "\n",
    "Show the first 5 listings of the dataset."
   ]
  },
  {
   "cell_type": "code",
   "execution_count": 69,
   "metadata": {},
   "outputs": [
    {
     "name": "stdout",
     "output_type": "stream",
     "text": [
      "   year    category                                           prize  \\\n",
      "0  1901   Chemistry               The Nobel Prize in Chemistry 1901   \n",
      "1  1901  Literature              The Nobel Prize in Literature 1901   \n",
      "2  1901    Medicine  The Nobel Prize in Physiology or Medicine 1901   \n",
      "3  1901       Peace                      The Nobel Peace Prize 1901   \n",
      "4  1901       Peace                      The Nobel Peace Prize 1901   \n",
      "\n",
      "                                          motivation prize_share  laureate_id  \\\n",
      "0  \"in recognition of the extraordinary services ...         1/1          160   \n",
      "1  \"in special recognition of his poetic composit...         1/1          569   \n",
      "2  \"for his work on serum therapy, especially its...         1/1          293   \n",
      "3                                                NaN         1/2          462   \n",
      "4                                                NaN         1/2          463   \n",
      "\n",
      "  laureate_type                     full_name  birth_date         birth_city  \\\n",
      "0    Individual  Jacobus Henricus van 't Hoff  1852-08-30          Rotterdam   \n",
      "1    Individual               Sully Prudhomme  1839-03-16              Paris   \n",
      "2    Individual        Emil Adolf von Behring  1854-03-15  Hansdorf (Lawice)   \n",
      "3    Individual             Jean Henry Dunant  1828-05-08             Geneva   \n",
      "4    Individual                Frédéric Passy  1822-05-20              Paris   \n",
      "\n",
      "      birth_country   sex   organization_name organization_city  \\\n",
      "0       Netherlands  Male   Berlin University            Berlin   \n",
      "1            France  Male                 NaN               NaN   \n",
      "2  Prussia (Poland)  Male  Marburg University           Marburg   \n",
      "3       Switzerland  Male                 NaN               NaN   \n",
      "4            France  Male                 NaN               NaN   \n",
      "\n",
      "  organization_country  death_date death_city death_country  \n",
      "0              Germany  1911-03-01     Berlin       Germany  \n",
      "1                  NaN  1907-09-07   Châtenay        France  \n",
      "2              Germany  1917-03-31    Marburg       Germany  \n",
      "3                  NaN  1910-10-30     Heiden   Switzerland  \n",
      "4                  NaN  1912-06-12      Paris        France  \n"
     ]
    }
   ],
   "source": [
    "print(nobel_data.head())"
   ]
  },
  {
   "cell_type": "markdown",
   "metadata": {},
   "source": [
    "# Problem 2\n",
    "\n",
    "How many null ('NaN') values there are in each *catagory*? What is the total number of Null values in the DataFrame?"
   ]
  },
  {
   "cell_type": "code",
   "execution_count": 70,
   "metadata": {},
   "outputs": [
    {
     "name": "stdout",
     "output_type": "stream",
     "text": [
      "Null values in each category:\n",
      "year                      0\n",
      "category                  0\n",
      "prize                     0\n",
      "motivation               88\n",
      "prize_share               0\n",
      "laureate_id               0\n",
      "laureate_type             0\n",
      "full_name                 0\n",
      "birth_date               28\n",
      "birth_city               28\n",
      "birth_country            26\n",
      "sex                      26\n",
      "organization_name       246\n",
      "organization_city       244\n",
      "organization_country    244\n",
      "death_date              318\n",
      "death_city              335\n",
      "death_country           329\n",
      "dtype: int64\n",
      "\n",
      "Total number of null values in the DataFrame: 1912\n"
     ]
    }
   ],
   "source": [
    "#number of null values in each column\n",
    "null_counts = nobel_data.isnull().sum()\n",
    "\n",
    "#total number of null values\n",
    "total_nulls = null_counts.sum()\n",
    "\n",
    "print(\"Null values in each category:\")\n",
    "print(null_counts)\n",
    "print(f\"\\nTotal number of null values in the DataFrame: {total_nulls}\")"
   ]
  },
  {
   "cell_type": "markdown",
   "metadata": {},
   "source": [
    "# Problem 3\n",
    "\n",
    "Make a histogram of the number of nobel prizes awarded per year. Around which decade (1900, 1910, 1920, ...) were the least amount of prizes awarded?"
   ]
  },
  {
   "cell_type": "code",
   "execution_count": 71,
   "metadata": {},
   "outputs": [
    {
     "data": {
      "image/png": "[encoded data removed]",
      "text/plain": [
       "<Figure size 640x480 with 1 Axes>"
      ]
     },
     "metadata": {},
     "output_type": "display_data"
    },
    {
     "name": "stdout",
     "output_type": "stream",
     "text": [
      "The decade with the least amount of Nobel Prizes awarded is: 1910s, with 40 prizes.\n"
     ]
    }
   ],
   "source": [
    "#number of Nobel Prizes awarded / year\n",
    "prizes_per_year = nobel_data['year'].value_counts().sort_index()\n",
    "\n",
    "#histogram\n",
    "plt.figure()\n",
    "plt.bar(prizes_per_year.index, prizes_per_year.values)\n",
    "\n",
    "plt.xlabel('Year')\n",
    "plt.ylabel('Number of Nobel Prizes Awarded')\n",
    "plt.title('Number of Nobel Prizes Awarded per Year')\n",
    "plt.tight_layout()\n",
    "plt.show()\n",
    "\n",
    "#prizes / decade\n",
    "prizes_per_decade = prizes_per_year.groupby(prizes_per_year.index // 10 * 10).sum()\n",
    "\n",
    "#decade with the least amount of prizes awarded\n",
    "least_awarded_decade = prizes_per_decade.idxmin()\n",
    "least_awarded_count = prizes_per_decade.min()\n",
    "\n",
    "print(f\"The decade with the least amount of Nobel Prizes awarded is: {least_awarded_decade}s, with {least_awarded_count} prizes.\")"
   ]
  },
  {
   "cell_type": "markdown",
   "metadata": {},
   "source": [
    "# Problem 4\n",
    "\n",
    "Use groupby method to printout the number of prizes awarded to each category. Which categroy has the most prizes?"
   ]
  },
  {
   "cell_type": "code",
   "execution_count": 72,
   "metadata": {},
   "outputs": [
    {
     "name": "stdout",
     "output_type": "stream",
     "text": [
      "Number of prizes awarded to each category:\n",
      "category\n",
      "Chemistry     175\n",
      "Economics      78\n",
      "Literature    113\n",
      "Medicine      211\n",
      "Peace         130\n",
      "Physics       204\n",
      "dtype: int64\n",
      "\n",
      "The category with the most prizes is: 'Medicine' with 211 prizes.\n"
     ]
    }
   ],
   "source": [
    "#group by category\n",
    "prizes_per_category = nobel_data.groupby('category').size()\n",
    "print(\"Number of prizes awarded to each category:\")\n",
    "print(prizes_per_category)\n",
    "\n",
    "\n",
    "#most prizes\n",
    "most_awarded_category = prizes_per_category.idxmax()\n",
    "\n",
    "print(f\"\\nThe category with the most prizes is: '{most_awarded_category}' with 211 prizes.\")"
   ]
  },
  {
   "cell_type": "markdown",
   "metadata": {},
   "source": [
    "# Problem 5\n",
    "\n",
    "Find percentage of the prizes were awarded to 1, 2, 3, and 4 people? Meaning what percentage of 1/1, 1/2, 1/3, and 1/4 prize_shares are there?"
   ]
  },
  {
   "cell_type": "code",
   "execution_count": 73,
   "metadata": {},
   "outputs": [
    {
     "name": "stdout",
     "output_type": "stream",
     "text": [
      "Percent of prizes awarded to 1 person: 37.76070252469813\n",
      "Percent of prizes awarded to 2 people: 33.589462129527995\n",
      "Percent of prizes awarded to 3 people: 22.063666300768386\n",
      "Percent of prizes awarded to 4 people: 6.586169045005488\n"
     ]
    },
    {
     "name": "stderr",
     "output_type": "stream",
     "text": [
      "/var/folders/1j/bxppz8y50sd79350chcxl0b40000gn/T/ipykernel_60735/2301520638.py:5: FutureWarning: Series.__getitem__ treating keys as positions is deprecated. In a future version, integer keys will always be treated as labels (consistent with DataFrame behavior). To access a value by position, use `ser.iloc[pos]`\n",
      "  p1 = prizes_per_share.get(0, 0)\n",
      "/var/folders/1j/bxppz8y50sd79350chcxl0b40000gn/T/ipykernel_60735/2301520638.py:6: FutureWarning: Series.__getitem__ treating keys as positions is deprecated. In a future version, integer keys will always be treated as labels (consistent with DataFrame behavior). To access a value by position, use `ser.iloc[pos]`\n",
      "  p2 = prizes_per_share.get(1, 0)\n",
      "/var/folders/1j/bxppz8y50sd79350chcxl0b40000gn/T/ipykernel_60735/2301520638.py:7: FutureWarning: Series.__getitem__ treating keys as positions is deprecated. In a future version, integer keys will always be treated as labels (consistent with DataFrame behavior). To access a value by position, use `ser.iloc[pos]`\n",
      "  p3 = prizes_per_share.get(2, 0)\n",
      "/var/folders/1j/bxppz8y50sd79350chcxl0b40000gn/T/ipykernel_60735/2301520638.py:8: FutureWarning: Series.__getitem__ treating keys as positions is deprecated. In a future version, integer keys will always be treated as labels (consistent with DataFrame behavior). To access a value by position, use `ser.iloc[pos]`\n",
      "  p4 = prizes_per_share.get(3, 0)\n"
     ]
    }
   ],
   "source": [
    "#group by category\n",
    "prizes_per_share = nobel_data.groupby('prize_share').size()\n",
    "\n",
    "#number\n",
    "p1 = prizes_per_share.get(0, 0)  \n",
    "p2 = prizes_per_share.get(1, 0) \n",
    "p3 = prizes_per_share.get(2, 0)  \n",
    "p4 = prizes_per_share.get(3, 0) \n",
    "\n",
    "#percent \n",
    "total_prizes = len(nobel_data)\n",
    "p1p = p1*100 / total_prizes\n",
    "p2p = p2*100 / total_prizes\n",
    "p3p = p3*100 / total_prizes\n",
    "p4p = p4*100 / total_prizes\n",
    "\n",
    "print(f\"Percent of prizes awarded to 1 person: {p1p}\")\n",
    "print(f\"Percent of prizes awarded to 2 people: {p2p}\")\n",
    "print(f\"Percent of prizes awarded to 3 people: {p3p}\")\n",
    "print(f\"Percent of prizes awarded to 4 people: {p4p}\")\n"
   ]
  },
  {
   "cell_type": "markdown",
   "metadata": {},
   "source": [
    "# Problem 6\n",
    "\n",
    "Determine how many males and females won the prize. Does the sum of male and female prizes add up to the total entries? If not, why?\n",
    "\n",
    "On the same graph make histograms for the numbber of males and females that won the prize each year. "
   ]
  },
  {
   "cell_type": "code",
   "execution_count": 74,
   "metadata": {},
   "outputs": [
    {
     "name": "stdout",
     "output_type": "stream",
     "text": [
      "Number of Male and Female Winners:\n",
      "sex\n",
      "Male      836\n",
      "Female     49\n",
      "Name: count, dtype: int64\n",
      "\n",
      "Total entries: 911\n",
      "Sum of male and female winners: 885\n",
      "The counts do not add up to the total entries.\n",
      "Some winners may not have a recorded gender\n",
      "Prizes won by multiple people may not include gender.\n",
      "Some entries may be for organizations not individual people\n"
     ]
    },
    {
     "data": {
      "image/png": "[encoded data removed]",
      "text/plain": [
       "<Figure size 640x480 with 1 Axes>"
      ]
     },
     "metadata": {},
     "output_type": "display_data"
    }
   ],
   "source": [
    "#number of male and female winners\n",
    "gender_counts = nobel_data['sex'].value_counts() \n",
    "print(\"Number of Male and Female Winners:\")\n",
    "print(gender_counts)\n",
    "\n",
    "#total entries\n",
    "total_entries = len(nobel_data)\n",
    "\n",
    "#add up to total entries?\n",
    "sum_gender_counts = gender_counts.sum()\n",
    "print(f\"\\nTotal entries: {total_entries}\")\n",
    "print(f\"Sum of male and female winners: {sum_gender_counts}\")\n",
    "\n",
    "print(\"The counts do not add up to the total entries.\")\n",
    "print(\"Some winners may not have a recorded gender\")\n",
    "print(\"Prizes won by multiple people may not include gender.\")\n",
    "print(\"Some entries may be for organizations not individual people\")\n",
    "\n",
    "#year and gender\n",
    "gender_year_counts = nobel_data.groupby(['year', 'sex']).size().unstack(fill_value=0)\n",
    "\n",
    "#histogram\n",
    "plt.figure()\n",
    "plt.bar(gender_year_counts.index,gender_year_counts['Male'], color='lightblue')\n",
    "plt.bar(gender_year_counts.index,gender_year_counts['Female'],color='lightpink')\n",
    "\n",
    "plt.xlabel('Year')\n",
    "plt.ylabel('Number of Prizes')\n",
    "plt.show()\n"
   ]
  },
  {
   "cell_type": "markdown",
   "metadata": {},
   "source": [
    "# Problem 7\n",
    "\n",
    "How many prizes were won by those whose birth country was United States of America?"
   ]
  },
  {
   "cell_type": "code",
   "execution_count": 76,
   "metadata": {},
   "outputs": [
    {
     "name": "stdout",
     "output_type": "stream",
     "text": [
      "Nobel Prizes awarded to those whose birth country was United States of America: 259\n"
     ]
    }
   ],
   "source": [
    "usa_prizes = nobel_data[nobel_data['birth_country'] == 'United States of America']\n",
    "number_of_usa_prizes = len(usa_prizes)\n",
    "\n",
    "print(f\"Nobel Prizes awarded to those whose birth country was United States of America: {number_of_usa_prizes}\")\n"
   ]
  },
  {
   "cell_type": "markdown",
   "metadata": {},
   "source": [
    "# Problem 8\n",
    "\n",
    "Determine the age that each of the prize winners was when they won the prize. Find the youngest and oldest to win the prize. Find the mean age to win the prize, and the standard deviation of it. Make a histogram of the age each person was when they won the prize.\n",
    "\n",
    "### Hint: You can use Pandas DatetimeIndex method to extract the year from the date format yyyy-mm-dd\n",
    "> pd.DatetimeIndex(date).year\n",
    "\n",
    "Where *date* is given in a formate like year-month-day, the above will returen the year, hence the *.year* in the call above. Use 'shit+tab' on pandas.DatetimeIndex to learn more."
   ]
  },
  {
   "cell_type": "code",
   "execution_count": 83,
   "metadata": {},
   "outputs": [
    {
     "name": "stdout",
     "output_type": "stream",
     "text": [
      "Youngest prize winner age: 17.0\n",
      "Oldest prize winner age: 90.0\n",
      "Mean age: 59.45\n",
      "Standard deviation of age: 12.40\n"
     ]
    },
    {
     "data": {
      "image/png": "[encoded data removed]",
      "text/plain": [
       "<Figure size 640x480 with 1 Axes>"
      ]
     },
     "metadata": {},
     "output_type": "display_data"
    }
   ],
   "source": [
    "#calculate age\n",
    "nobel_data['birth_year'] = pd.DatetimeIndex(nobel_data['birth_date']).year\n",
    "nobel_data['age'] = nobel_data['year'] - nobel_data['birth_year']  \n",
    "\n",
    "# Find the youngest and oldest prize winners\n",
    "youngest_age = nobel_data['age'].min()\n",
    "oldest_age = nobel_data['age'].max()\n",
    "\n",
    "#mean and standard deviation\n",
    "mean = nobel_data['age'].mean()\n",
    "sd = nobel_data['age'].std()\n",
    "\n",
    "print(f\"Youngest prize winner age: {youngest_age}\")\n",
    "print(f\"Oldest prize winner age: {oldest_age}\")\n",
    "print(f\"Mean age: {mean:.2f}\")\n",
    "print(f\"Standard deviation of age: {sd:.2f}\")\n",
    "\n",
    "#histogram\n",
    "plt.figure()\n",
    "plt.hist(nobel_data['age'], bins=range(0, 100, 5), color='lightblue', edgecolor='black')\n",
    "plt.xlabel('Age')\n",
    "plt.ylabel('Winners')\n",
    "plt.xticks(range(0, 100, 5))\n",
    "plt.show()"
   ]
  },
  {
   "cell_type": "markdown",
   "metadata": {},
   "source": [
    "# Problem 9\n",
    "\n",
    "Make a copy of the current DataFrame. Then drop the column *lauret_id* from the copied DataFrame (do this inplace so this column is gone)."
   ]
  },
  {
   "cell_type": "code",
   "execution_count": 90,
   "metadata": {},
   "outputs": [
    {
     "name": "stdout",
     "output_type": "stream",
     "text": [
      "   year    category                                           prize  \\\n",
      "0  1901   Chemistry               The Nobel Prize in Chemistry 1901   \n",
      "1  1901  Literature              The Nobel Prize in Literature 1901   \n",
      "2  1901    Medicine  The Nobel Prize in Physiology or Medicine 1901   \n",
      "3  1901       Peace                      The Nobel Peace Prize 1901   \n",
      "4  1901       Peace                      The Nobel Peace Prize 1901   \n",
      "\n",
      "                                          motivation prize_share  \\\n",
      "0  \"in recognition of the extraordinary services ...         1/1   \n",
      "1  \"in special recognition of his poetic composit...         1/1   \n",
      "2  \"for his work on serum therapy, especially its...         1/1   \n",
      "3                                                NaN         1/2   \n",
      "4                                                NaN         1/2   \n",
      "\n",
      "  laureate_type                     full_name  birth_date         birth_city  \\\n",
      "0    Individual  Jacobus Henricus van 't Hoff  1852-08-30          Rotterdam   \n",
      "1    Individual               Sully Prudhomme  1839-03-16              Paris   \n",
      "2    Individual        Emil Adolf von Behring  1854-03-15  Hansdorf (Lawice)   \n",
      "3    Individual             Jean Henry Dunant  1828-05-08             Geneva   \n",
      "4    Individual                Frédéric Passy  1822-05-20              Paris   \n",
      "\n",
      "      birth_country   sex   organization_name organization_city  \\\n",
      "0       Netherlands  Male   Berlin University            Berlin   \n",
      "1            France  Male                 NaN               NaN   \n",
      "2  Prussia (Poland)  Male  Marburg University           Marburg   \n",
      "3       Switzerland  Male                 NaN               NaN   \n",
      "4            France  Male                 NaN               NaN   \n",
      "\n",
      "  organization_country  death_date death_city death_country  birth_year   age  \n",
      "0              Germany  1911-03-01     Berlin       Germany      1852.0  49.0  \n",
      "1                  NaN  1907-09-07   Châtenay        France      1839.0  62.0  \n",
      "2              Germany  1917-03-31    Marburg       Germany      1854.0  47.0  \n",
      "3                  NaN  1910-10-30     Heiden   Switzerland      1828.0  73.0  \n",
      "4                  NaN  1912-06-12      Paris        France      1822.0  79.0  \n"
     ]
    }
   ],
   "source": [
    "#copy DataFrame\n",
    "nobel_data_copy = nobel_data.copy()\n",
    "\n",
    "#drop 'laureate_id' column \n",
    "nobel_data_copy.drop(columns=['laureate_id'], inplace=True)\n",
    "\n",
    "#check\n",
    "print(nobel_data_copy.head()) \n"
   ]
  },
  {
   "cell_type": "markdown",
   "metadata": {},
   "source": [
    "# Problem 10\n",
    "\n",
    "Add the age column you calculated in Problem 8 to the DataFrame."
   ]
  },
  {
   "cell_type": "code",
   "execution_count": 91,
   "metadata": {},
   "outputs": [
    {
     "name": "stdout",
     "output_type": "stream",
     "text": [
      "   year    category                                           prize  \\\n",
      "0  1901   Chemistry               The Nobel Prize in Chemistry 1901   \n",
      "1  1901  Literature              The Nobel Prize in Literature 1901   \n",
      "2  1901    Medicine  The Nobel Prize in Physiology or Medicine 1901   \n",
      "3  1901       Peace                      The Nobel Peace Prize 1901   \n",
      "4  1901       Peace                      The Nobel Peace Prize 1901   \n",
      "\n",
      "                                          motivation prize_share  \\\n",
      "0  \"in recognition of the extraordinary services ...         1/1   \n",
      "1  \"in special recognition of his poetic composit...         1/1   \n",
      "2  \"for his work on serum therapy, especially its...         1/1   \n",
      "3                                                NaN         1/2   \n",
      "4                                                NaN         1/2   \n",
      "\n",
      "  laureate_type                     full_name  birth_date         birth_city  \\\n",
      "0    Individual  Jacobus Henricus van 't Hoff  1852-08-30          Rotterdam   \n",
      "1    Individual               Sully Prudhomme  1839-03-16              Paris   \n",
      "2    Individual        Emil Adolf von Behring  1854-03-15  Hansdorf (Lawice)   \n",
      "3    Individual             Jean Henry Dunant  1828-05-08             Geneva   \n",
      "4    Individual                Frédéric Passy  1822-05-20              Paris   \n",
      "\n",
      "      birth_country   sex   organization_name organization_city  \\\n",
      "0       Netherlands  Male   Berlin University            Berlin   \n",
      "1            France  Male                 NaN               NaN   \n",
      "2  Prussia (Poland)  Male  Marburg University           Marburg   \n",
      "3       Switzerland  Male                 NaN               NaN   \n",
      "4            France  Male                 NaN               NaN   \n",
      "\n",
      "  organization_country  death_date death_city death_country  birth_year   age  \n",
      "0              Germany  1911-03-01     Berlin       Germany      1852.0  49.0  \n",
      "1                  NaN  1907-09-07   Châtenay        France      1839.0  62.0  \n",
      "2              Germany  1917-03-31    Marburg       Germany      1854.0  47.0  \n",
      "3                  NaN  1910-10-30     Heiden   Switzerland      1828.0  73.0  \n",
      "4                  NaN  1912-06-12      Paris        France      1822.0  79.0  \n"
     ]
    }
   ],
   "source": [
    "#add age\n",
    "nobel_data_copy['age'] = nobel_data['age']\n",
    "\n",
    "#check\n",
    "print(nobel_data_copy.head()) \n"
   ]
  },
  {
   "cell_type": "code",
   "execution_count": null,
   "metadata": {},
   "outputs": [],
   "source": []
  },
  {
   "cell_type": "code",
   "execution_count": null,
   "metadata": {},
   "outputs": [],
   "source": []
  }
 ],
 "metadata": {
  "kernelspec": {
   "display_name": "Python 3 (ipykernel)",
   "language": "python",
   "name": "python3"
  },
  "language_info": {
   "codemirror_mode": {
    "name": "ipython",
    "version": 3
   },
   "file_extension": ".py",
   "mimetype": "text/x-python",
   "name": "python",
   "nbconvert_exporter": "python",
   "pygments_lexer": "ipython3",
   "version": "3.11.7"
  }
 },
 "nbformat": 4,
 "nbformat_minor": 4
}
