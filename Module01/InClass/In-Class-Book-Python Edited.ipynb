{
 "cells": [
  {
   "cell_type": "markdown",
   "id": "14d461ca",
   "metadata": {},
   "source": [
    "# In-Class Notebook: Python Review\n",
    "Complete notebook in class and upload to your github repository."
   ]
  },
  {
   "cell_type": "markdown",
   "id": "18093846",
   "metadata": {},
   "source": [
    " 1. Write a code that concatenates the two lists below index-wise. Create a new list that contains as it 0th index the concatenation of list1 and list2's 0th index, its 1st index as the concatenation of list1 and list2's 1st index and so on. \n",
    " \n",
    " Expected output:\n",
    " > ['who', 'Ya', 'gonna', 'call']"
   ]
  },
  {
   "cell_type": "code",
   "execution_count": 9,
   "id": "40da6c70",
   "metadata": {},
   "outputs": [
    {
     "name": "stdout",
     "output_type": "stream",
     "text": [
      "['who', 'Ya', 'gonna', 'call']\n"
     ]
    }
   ],
   "source": [
    "list1 = ['wh','Y','gon','ca']\n",
    "list2 = ['o','a','na','ll']\n",
    "#solution\n",
    "sol = []\n",
    "\n",
    "for i in range(0,4):\n",
    "    sol.append(list1[i] + list2[i])\n",
    "      \n",
    "print(sol)"
   ]
  },
  {
   "cell_type": "markdown",
   "id": "cde39cf8",
   "metadata": {},
   "source": [
    "2. Write a program to iterate the first 10 numbers (0 to 9) and in each iteration, print the sum of the current and previous number.\n",
    "\n",
    "Expected output:\n",
    "> printing current and previous number sum in a range(10)\\\n",
    "> current number: 0 previous number: 0 sum: 0\\\n",
    "> current number: 1 previous number: 0 sum: 1\\\n",
    "> current number: 2 previous number: 1 sum: 3\\\n",
    "> current number: 3 previous number: 2 sum: 5\\\n",
    "> current number: 4 previous number: 3 sum: 7\\\n",
    "> current number: 5 previous number: 4 sum: 9\\\n",
    "> current number: 6 previous number: 5 sum: 11\\\n",
    "> current number: 7 previous number: 6 sum: 13\\\n",
    "> current number: 8 previous number: 7 sum: 15\\\n",
    "> current number: 9 previous number: 8 sum: 17"
   ]
  },
  {
   "cell_type": "code",
   "execution_count": 32,
   "id": "4ee90937-5375-4d48-aac7-7f4688882615",
   "metadata": {},
   "outputs": [
    {
     "name": "stdout",
     "output_type": "stream",
     "text": [
      "Printing current and previous number sum in range(10)\n",
      "current number: 0 previous number: 0 sum: 0\n",
      "current number: 1 previous number: 0 sum: 1\n",
      "current number: 2 previous number: 1 sum: 3\n",
      "current number: 3 previous number: 2 sum: 5\n",
      "current number: 4 previous number: 3 sum: 7\n",
      "current number: 5 previous number: 4 sum: 9\n",
      "current number: 6 previous number: 5 sum: 11\n",
      "current number: 7 previous number: 6 sum: 13\n",
      "current number: 8 previous number: 7 sum: 15\n",
      "current number: 9 previous number: 8 sum: 17\n"
     ]
    }
   ],
   "source": [
    "#solution\n",
    "print(\"Printing current and previous number sum in range(10)\")\n",
    "\n",
    "numbers = [0, 1, 2, 3, 4, 5, 6, 7, 8, 9]\n",
    "previous_number = 0  # Initialize previous number\n",
    "\n",
    "for current_number in numbers:\n",
    "    if current_number == 0:\n",
    "        print(\"current number: 0 previous number: 0 sum: 0\")\n",
    "    else:\n",
    "        sum_value = current_number + previous_number\n",
    "        print(f\"current number: {current_number} previous number: {previous_number} sum: {sum_value}\")\n",
    "    previous_number = current_number "
   ]
  },
  {
   "cell_type": "code",
   "execution_count": 33,
   "id": "8770c69f-60cc-4005-8257-87bd877d3229",
   "metadata": {},
   "outputs": [
    {
     "name": "stdout",
     "output_type": "stream",
     "text": [
      "printing current and previous number sum in a range(10)\n",
      "current number:0 previous number: 0 sum: 0\n"
     ]
    },
    {
     "ename": "IndexError",
     "evalue": "list index out of range",
     "output_type": "error",
     "traceback": [
      "\u001b[0;31m---------------------------------------------------------------------------\u001b[0m",
      "\u001b[0;31mIndexError\u001b[0m                                Traceback (most recent call last)",
      "Cell \u001b[0;32mIn[33], line 10\u001b[0m\n\u001b[1;32m      8\u001b[0m \u001b[38;5;28;01melse\u001b[39;00m:\n\u001b[1;32m      9\u001b[0m     \u001b[38;5;28msum\u001b[39m\u001b[38;5;241m.\u001b[39mappend(\u001b[38;5;241m2\u001b[39m\u001b[38;5;241m*\u001b[39mi\u001b[38;5;241m-\u001b[39m\u001b[38;5;241m1\u001b[39m)\n\u001b[0;32m---> 10\u001b[0m     \u001b[38;5;28mprint\u001b[39m (\u001b[38;5;124m\"\u001b[39m\u001b[38;5;124mcurrent number:\u001b[39m\u001b[38;5;124m\"\u001b[39m,i,\u001b[38;5;124m\"\u001b[39m\u001b[38;5;124mprevious number:\u001b[39m\u001b[38;5;124m\"\u001b[39m,i\u001b[38;5;241m-\u001b[39m\u001b[38;5;241m1\u001b[39m,\u001b[38;5;124m\"\u001b[39m\u001b[38;5;124msum:\u001b[39m\u001b[38;5;124m\"\u001b[39m,\u001b[38;5;28msum\u001b[39m[i])\n",
      "\u001b[0;31mIndexError\u001b[0m: list index out of range"
     ]
    }
   ],
   "source": [
    "# this is my first attempt, I would really like to know why it didn't work \n",
    "print(\"printing current and previous number sum in a range(10)\")\n",
    "list=[0,1,2,3,4,5,6,7,8,9]\n",
    "sum = []\n",
    "for i in list:\n",
    "    if (i == 0):\n",
    "        print (\"current number:0 previous number: 0 sum: 0\")\n",
    "    else:\n",
    "        sum.append(2*i-1)\n",
    "        print (\"current number:\",i,\"previous number:\",i-1,\"sum:\",sum[i])\n"
   ]
  },
  {
   "cell_type": "markdown",
   "id": "8fe6e441",
   "metadata": {},
   "source": [
    " 3. Define a function called **is_odd** that takes an integer as its argument and tells the user if it is even, odd, or zero.\n",
    " \n",
    " Expected Output:\n",
    "> is_odd(1) \n",
    ">> Odd\n",
    "\n",
    "> is_odd(2)\n",
    ">> Even\n",
    "\n",
    "> is_odd(4)\n",
    ">> Even\n",
    "\n",
    "> is_odd(7)\n",
    ">> Odd\n",
    "\n",
    "> is_odd(0)\n",
    ">> integer is zero"
   ]
  },
  {
   "cell_type": "code",
   "execution_count": 20,
   "id": "2ab8aaa5",
   "metadata": {},
   "outputs": [],
   "source": [
    "#solution\n",
    "def is_odd (num = 0):\n",
    "    '''Takes a number and returns its square'''\n",
    "    if (num==0):\n",
    "        print (\"integer is zero\")\n",
    "    elif (num%2==0):\n",
    "        print (\"Even\")\n",
    "    else: \n",
    "        print (\"Odd\")"
   ]
  },
  {
   "cell_type": "code",
   "execution_count": 21,
   "id": "30092a60-9349-41de-913c-dbb8208a7054",
   "metadata": {},
   "outputs": [
    {
     "name": "stdout",
     "output_type": "stream",
     "text": [
      "Odd\n"
     ]
    }
   ],
   "source": [
    "is_odd(1)"
   ]
  },
  {
   "cell_type": "code",
   "execution_count": 22,
   "id": "7693d80c-f61f-4a00-b4e2-82c7a0751050",
   "metadata": {},
   "outputs": [
    {
     "name": "stdout",
     "output_type": "stream",
     "text": [
      "Even\n"
     ]
    }
   ],
   "source": [
    "is_odd(2)"
   ]
  },
  {
   "cell_type": "code",
   "execution_count": 23,
   "id": "dc7fbf9e-9cb6-4ce1-801c-96c6a97c24ff",
   "metadata": {},
   "outputs": [
    {
     "name": "stdout",
     "output_type": "stream",
     "text": [
      "Even\n"
     ]
    }
   ],
   "source": [
    "is_odd(4)"
   ]
  },
  {
   "cell_type": "code",
   "execution_count": 24,
   "id": "998d6033-85fd-4613-9ba6-cd29dd92d87c",
   "metadata": {},
   "outputs": [
    {
     "name": "stdout",
     "output_type": "stream",
     "text": [
      "Odd\n"
     ]
    }
   ],
   "source": [
    "is_odd(7)"
   ]
  },
  {
   "cell_type": "code",
   "execution_count": 25,
   "id": "34db9513-fb8e-46c1-af80-93be003acc35",
   "metadata": {},
   "outputs": [
    {
     "name": "stdout",
     "output_type": "stream",
     "text": [
      "integer is zero\n"
     ]
    }
   ],
   "source": [
    "is_odd(0)"
   ]
  },
  {
   "cell_type": "markdown",
   "id": "bd3e504a",
   "metadata": {},
   "source": [
    "4. Unpack the tuple tuple1.\n",
    "Expected output:\n",
    "> tuple1 = (0, 5, 10, 15)\\\n",
    "> #Your code\\\n",
    "> print(a) #should print 0\\\n",
    "> print(b) #should print 5\\\n",
    "> print(c) #should print 10\\\n",
    "> print(d) #should print 15"
   ]
  },
  {
   "cell_type": "code",
   "execution_count": 28,
   "id": "c5da6573",
   "metadata": {},
   "outputs": [
    {
     "name": "stdout",
     "output_type": "stream",
     "text": [
      "0\n",
      "5\n",
      "10\n",
      "15\n"
     ]
    }
   ],
   "source": [
    "tuple1 = (0, 5, 10, 15)\n",
    "\n",
    "#solution\n",
    "print(tuple1[0])\n",
    "print(tuple1[1])\n",
    "print(tuple1[2])\n",
    "print(tuple1[3])\n",
    "\n",
    "#i don't know if this is what you meant, also I know I can do this without the print command but it seems the instructions are telling us to use print"
   ]
  },
  {
   "cell_type": "code",
   "execution_count": null,
   "id": "620c96c5-e70c-45cd-b97c-df7a8e78df6f",
   "metadata": {},
   "outputs": [],
   "source": []
  }
 ],
 "metadata": {
  "kernelspec": {
   "display_name": "Python 3 (ipykernel)",
   "language": "python",
   "name": "python3"
  },
  "language_info": {
   "codemirror_mode": {
    "name": "ipython",
    "version": 3
   },
   "file_extension": ".py",
   "mimetype": "text/x-python",
   "name": "python",
   "nbconvert_exporter": "python",
   "pygments_lexer": "ipython3",
   "version": "3.11.7"
  }
 },
 "nbformat": 4,
 "nbformat_minor": 5
}
